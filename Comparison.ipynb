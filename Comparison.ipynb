{
 "cells": [
  {
   "cell_type": "code",
   "execution_count": null,
   "metadata": {},
   "outputs": [],
   "source": [
    "import creators\n",
    "import creatures\n",
    "import crossovers\n",
    "import evaluators\n",
    "import evolution\n",
    "import mutators\n",
    "import satisfaction\n",
    "import selects\n",
    "import logger\n",
    "\n",
    "import random"
   ]
  },
  {
   "cell_type": "code",
   "execution_count": null,
   "metadata": {},
   "outputs": [],
   "source": [
    "a = sum([i+1 for i in range(15)])\n",
    "b = 20*19*18*17*16\n",
    "n = 20"
   ]
  },
  {
   "cell_type": "code",
   "execution_count": null,
   "metadata": {},
   "outputs": [],
   "source": [
    "creature_class = creatures.DeckCreature\n",
    "population_size = 10"
   ]
  },
  {
   "cell_type": "code",
   "execution_count": null,
   "metadata": {},
   "outputs": [],
   "source": [
    "selects_configs = [\n",
    "    selects.FromTheLowestFitnessesSelection()\n",
    "]\n",
    "\n",
    "crossovers_configs = [\n",
    "    crossovers.SinglePointCrossover(creature_class, 0.5),\n",
    "    crossovers.RandomSinglePointCrossover(creature_class, random.Random(2)),\n",
    "    crossovers.MultiPointCrossover(creature_class, [0.25, 0.5, 0.75]),\n",
    "    crossovers.RandomMultiPointCrossover(creature_class, 3, random.Random(2)),\n",
    "    crossovers.RandomIndependentCrossover(creature_class, random.Random(2)),\n",
    "    crossovers.RandomRespectfulCrossover(creature_class, random.Random(2))\n",
    "]\n",
    "\n",
    "mutators_configs = [\n",
    "    mutators.RandomIndependentSwitchMutator(creature_class, 0.5, random.Random(3)),\n",
    "    mutators.RandomIndependentSwapMutator(creature_class, 1.0, random.Random(3))\n",
    "]"
   ]
  },
  {
   "cell_type": "code",
   "execution_count": null,
   "metadata": {},
   "outputs": [],
   "source": [
    "satisfaction_evaluator = satisfaction.ExponentialDistanceBasedSatisfactionEvaluator(n)\n",
    "satisfaction_level = 1.0\n",
    "\n",
    "results = []\n",
    "\n",
    "for crossover in crossovers_configs:\n",
    "    for select in selects_configs:\n",
    "        for mutator in mutators_configs:\n",
    "                l = logger.Logger()\n",
    "                evol = evolution.Evolution(creators.RandomCreator(creature_class, n, random.Random(1)),\n",
    "                                           evaluators.DistanceSumDeckEvaluator(a, b),\n",
    "                                           select,\n",
    "                                           crossover,\n",
    "                                           mutator,\n",
    "                                           population_size)\n",
    "                best = evol.evolve_until_satisfied(satisfaction_evaluator, satisfaction_level, l)\n",
    "                results.append((select, crossover, mutator, best, l))"
   ]
  },
  {
   "cell_type": "code",
   "execution_count": null,
   "metadata": {
    "scrolled": false
   },
   "outputs": [],
   "source": [
    "for select, crossover, mutator, best, log in results:\n",
    "    print(\"Configuration {}, {}, {}:\".format(select.__class__.__name__, crossover.__class__.__name__, mutator.__class__.__name__))\n",
    "    log.plot_lowest(figsize=(2,2))"
   ]
  },
  {
   "cell_type": "code",
   "execution_count": null,
   "metadata": {},
   "outputs": [],
   "source": []
  }
 ],
 "metadata": {
  "kernelspec": {
   "display_name": "Python 3",
   "language": "python",
   "name": "python3"
  },
  "language_info": {
   "codemirror_mode": {
    "name": "ipython",
    "version": 3
   },
   "file_extension": ".py",
   "mimetype": "text/x-python",
   "name": "python",
   "nbconvert_exporter": "python",
   "pygments_lexer": "ipython3",
   "version": "3.7.5"
  }
 },
 "nbformat": 4,
 "nbformat_minor": 2
}
