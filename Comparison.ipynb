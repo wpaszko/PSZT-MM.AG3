{
 "cells": [
  {
   "cell_type": "code",
   "execution_count": null,
   "metadata": {},
   "outputs": [],
   "source": [
    "import creators\n",
    "import creatures\n",
    "import crossovers\n",
    "import evaluators\n",
    "import evolution\n",
    "import mutators\n",
    "import satisfaction\n",
    "import selects\n",
    "import logger\n",
    "\n",
    "import random"
   ]
  },
  {
   "cell_type": "code",
   "execution_count": null,
   "metadata": {},
   "outputs": [],
   "source": [
    "a = sum([i+1 for i in range(2, 20)])\n",
    "b = 30*29*28*27*26*25*24*23*22*21*1*2\n",
    "n = 30"
   ]
  },
  {
   "cell_type": "code",
   "execution_count": null,
   "metadata": {},
   "outputs": [],
   "source": [
    "creature_class = creatures.DeckCreature\n",
    "population_size = 100"
   ]
  },
  {
   "cell_type": "code",
   "execution_count": null,
   "metadata": {},
   "outputs": [],
   "source": [
    "cross_rng = random.Random()\n",
    "mut_rng = random.Random()"
   ]
  },
  {
   "cell_type": "code",
   "execution_count": null,
   "metadata": {},
   "outputs": [],
   "source": [
    "selects_configs = [\n",
    "    selects.FromTheLowestFitnessesSelection(),\n",
    "    selects.ExponentialSelection(5.0),\n",
    "    selects.SwapRandomSelection(0.5/(population_size*3))\n",
    "]\n",
    "\n",
    "crossovers_configs = [\n",
    "    #crossovers.SinglePointCrossover(creature_class, 0.5),\n",
    "    #crossovers.RandomSinglePointCrossover(creature_class, cross_rng),\n",
    "    #crossovers.MultiPointCrossover(creature_class, [0.25, 0.5, 0.75]),\n",
    "    #crossovers.RandomMultiPointCrossover(creature_class, 3, cross_rng),\n",
    "    crossovers.RandomIndependentCrossover(creature_class, cross_rng),\n",
    "    #crossovers.RandomRespectfulCrossover(creature_class, cross_rng)\n",
    "]\n",
    "\n",
    "mutators_configs = [\n",
    "    mutators.RandomIndependentSwitchMutator(creature_class, 0.1, mut_rng),\n",
    "    #mutators.RandomIndependentSwapMutator(creature_class, 0.25, mut_rng)\n",
    "]"
   ]
  },
  {
   "cell_type": "code",
   "execution_count": null,
   "metadata": {
    "scrolled": false
   },
   "outputs": [],
   "source": [
    "generations = 1000\n",
    "results = []\n",
    "\n",
    "for crossover in crossovers_configs:\n",
    "    for select in selects_configs:\n",
    "        for mutator in mutators_configs:\n",
    "                cross_rng.seed(1)\n",
    "                mut_rng.seed(2)\n",
    "                l = logger.Logger()\n",
    "                evol = evolution.Evolution(creators.RandomCreator(creature_class, n, random.Random(1)),\n",
    "                                           evaluators.NormalizedMeanDeckEvaluator(a, b),\n",
    "                                           select,\n",
    "                                           crossover,\n",
    "                                           mutator,\n",
    "                                           population_size)\n",
    "                best = evol.evolve_n_generations(generations, l)\n",
    "                results.append((select, crossover, mutator, best, l))"
   ]
  },
  {
   "cell_type": "code",
   "execution_count": null,
   "metadata": {
    "scrolled": false
   },
   "outputs": [],
   "source": [
    "for select, crossover, mutator, best, log in results:\n",
    "    print(\"Configuration {}, {}, {}:\".format(select.__class__.__name__, crossover.__class__.__name__, mutator.__class__.__name__))\n",
    "    log.plot_mean(figsize=(4,4))"
   ]
  },
  {
   "cell_type": "code",
   "execution_count": null,
   "metadata": {},
   "outputs": [],
   "source": [
    "for select, crossover, mutator, best, log in results:\n",
    "    print(\"A :\",best.get_stack(True))\n",
    "    print(\"B :\", best.get_stack(False))\n",
    "    print()"
   ]
  },
  {
   "cell_type": "code",
   "execution_count": null,
   "metadata": {},
   "outputs": [],
   "source": []
  }
 ],
 "metadata": {
  "kernelspec": {
   "display_name": "Python 3",
   "language": "python",
   "name": "python3"
  },
  "language_info": {
   "codemirror_mode": {
    "name": "ipython",
    "version": 3
   },
   "file_extension": ".py",
   "mimetype": "text/x-python",
   "name": "python",
   "nbconvert_exporter": "python",
   "pygments_lexer": "ipython3",
   "version": "3.7.4"
  }
 },
 "nbformat": 4,
 "nbformat_minor": 2
}
