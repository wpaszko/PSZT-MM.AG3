{
 "cells": [
  {
   "cell_type": "code",
   "execution_count": 70,
   "metadata": {},
   "outputs": [],
   "source": [
    "import creators\n",
    "import creatures\n",
    "import crossovers\n",
    "import evaluators\n",
    "import evolution\n",
    "import mutators\n",
    "import selects\n",
    "import logger\n",
    "import numpy as np\n",
    "\n",
    "import random"
   ]
  },
  {
   "cell_type": "code",
   "execution_count": 71,
   "metadata": {},
   "outputs": [],
   "source": [
    "a = sum([1,5,6,10,12,13,14,17,20,21,22,23,24,25,26,27,30])\n",
    "b = evaluators.get_product_of_list([2,3,4,7,8,9,11,15,16,18,19,18,29])\n",
    "n = 30"
   ]
  },
  {
   "cell_type": "code",
   "execution_count": 72,
   "metadata": {},
   "outputs": [],
   "source": [
    "creature_class = creatures.DeckCreature\n",
    "population_size = 300"
   ]
  },
  {
   "cell_type": "code",
   "execution_count": 73,
   "metadata": {},
   "outputs": [],
   "source": [
    "sel_rng = np.random.RandomState()\n",
    "cross_rng = random.Random()\n",
    "mut_rng = random.Random()"
   ]
  },
  {
   "cell_type": "code",
   "execution_count": 74,
   "metadata": {},
   "outputs": [],
   "source": [
    "mutation_probabilities = [0.5, 0.1, 0.05, 0.01, 0.005, 0.001]"
   ]
  },
  {
   "cell_type": "code",
   "execution_count": 75,
   "metadata": {
    "scrolled": false
   },
   "outputs": [],
   "source": [
    "satisfactory_level = 0.999\n",
    "results = []\n",
    "\n",
    "for mutation_probability in mutation_probabilities:\n",
    "    \n",
    "    run_results = []\n",
    "    \n",
    "    for i in range(10):\n",
    "        sel_rng.seed(i)\n",
    "        cross_rng.seed(i)\n",
    "        mut_rng.seed(i)\n",
    "        l = logger.Logger()\n",
    "        evol = evolution.Evolution(creators.RandomCreator(creature_class, n, random.Random(i)),\n",
    "                                   evaluators.LogarithmicMeanDeckEvaluator(a, b),\n",
    "                                   selects.ExponentialSelection(1.2, sel_rng),\n",
    "                                   crossovers.RandomIndependentCrossover(creature_class, cross_rng),\n",
    "                                   mutators.RandomIndependentSwapMutator(creature_class, mutation_probability, mut_rng),\n",
    "                                   population_size)\n",
    "        best = evol.evolve_until_satisfied(satisfactory_level, l, 100)\n",
    "        \n",
    "        run_results.append(l.current_gen)\n",
    "        \n",
    "    results.append((mutation_probability, np.mean(run_results), np.median(run_results)))"
   ]
  },
  {
   "cell_type": "code",
   "execution_count": 76,
   "metadata": {
    "scrolled": false
   },
   "outputs": [
    {
     "name": "stdout",
     "output_type": "stream",
     "text": [
      "Mutation probability:  0.5\n",
      "Mean end generation:  49.7\n",
      "Median end generation:  58.0\n",
      "\n",
      "Mutation probability:  0.1\n",
      "Mean end generation:  36.3\n",
      "Median end generation:  32.5\n",
      "\n",
      "Mutation probability:  0.05\n",
      "Mean end generation:  24.6\n",
      "Median end generation:  19.5\n",
      "\n",
      "Mutation probability:  0.01\n",
      "Mean end generation:  53.2\n",
      "Median end generation:  36.5\n",
      "\n",
      "Mutation probability:  0.005\n",
      "Mean end generation:  45.2\n",
      "Median end generation:  23.5\n",
      "\n",
      "Mutation probability:  0.001\n",
      "Mean end generation:  66.2\n",
      "Median end generation:  100.0\n",
      "\n"
     ]
    }
   ],
   "source": [
    "for mutation_probability, mean, median in results:\n",
    "    print(\"Mutation probability: \", mutation_probability)\n",
    "    print(\"Mean end generation: \", mean)\n",
    "    print(\"Median end generation: \", median)\n",
    "    print()"
   ]
  },
  {
   "cell_type": "code",
   "execution_count": null,
   "metadata": {},
   "outputs": [],
   "source": []
  }
 ],
 "metadata": {
  "kernelspec": {
   "display_name": "Python 3",
   "language": "python",
   "name": "python3"
  },
  "language_info": {
   "codemirror_mode": {
    "name": "ipython",
    "version": 3
   },
   "file_extension": ".py",
   "mimetype": "text/x-python",
   "name": "python",
   "nbconvert_exporter": "python",
   "pygments_lexer": "ipython3",
   "version": "3.7.5"
  }
 },
 "nbformat": 4,
 "nbformat_minor": 2
}
